{
  "metadata": {
    "kernelspec": {
      "name": "python3",
      "display_name": "Python 3",
      "language": "python"
    },
    "language_info": {
      "codemirror_mode": {
        "name": "ipython",
        "version": 3
      },
      "file_extension": ".py",
      "mimetype": "text/x-python",
      "name": "python",
      "nbconvert_exporter": "python",
      "pygments_lexer": "ipython3",
      "version": "3.10.14"
    },
    "kaggle": {
      "accelerator": "gpu",
      "dataSources": [
        {
          "sourceId": 82695,
          "databundleVersionId": 9738540,
          "sourceType": "competition"
        }
      ],
      "dockerImageVersionId": 30762,
      "isInternetEnabled": true,
      "language": "python",
      "sourceType": "notebook",
      "isGpuEnabled": true
    },
    "papermill": {
      "default_parameters": {},
      "duration": 14.614286,
      "end_time": "2024-09-14T01:46:08.075104",
      "environment_variables": {},
      "exception": null,
      "input_path": "__notebook__.ipynb",
      "output_path": "__notebook__.ipynb",
      "parameters": {},
      "start_time": "2024-09-14T01:45:53.460818",
      "version": "2.6.0"
    },
    "colab": {
      "provenance": [],
      "include_colab_link": true
    },
    "widgets": {
      "application/vnd.jupyter.widget-state+json": {
        "b472eb235cce43618ce5bb295a8df703": {
          "model_module": "@jupyter-widgets/controls",
          "model_name": "VBoxModel",
          "model_module_version": "1.5.0",
          "state": {
            "_dom_classes": [],
            "_model_module": "@jupyter-widgets/controls",
            "_model_module_version": "1.5.0",
            "_model_name": "VBoxModel",
            "_view_count": null,
            "_view_module": "@jupyter-widgets/controls",
            "_view_module_version": "1.5.0",
            "_view_name": "VBoxView",
            "box_style": "",
            "children": [
              "IPY_MODEL_10c54aa7ae9c46849f1680903e9a863f",
              "IPY_MODEL_4c6c48a1b86f4a778a2a6a2101c69ccb",
              "IPY_MODEL_550cfe8c81124ef0a2b2d9a2a519d6df",
              "IPY_MODEL_712fea116c23437c9ed1a6c0e1066e1f",
              "IPY_MODEL_58773e16f8de441a98897592b1b16f7b"
            ],
            "layout": "IPY_MODEL_6e9e78be66204630964e739997e95e51"
          }
        },
        "10c54aa7ae9c46849f1680903e9a863f": {
          "model_module": "@jupyter-widgets/controls",
          "model_name": "HTMLModel",
          "model_module_version": "1.5.0",
          "state": {
            "_dom_classes": [],
            "_model_module": "@jupyter-widgets/controls",
            "_model_module_version": "1.5.0",
            "_model_name": "HTMLModel",
            "_view_count": null,
            "_view_module": "@jupyter-widgets/controls",
            "_view_module_version": "1.5.0",
            "_view_name": "HTMLView",
            "description": "",
            "description_tooltip": null,
            "layout": "IPY_MODEL_7f2f216b43cb4429bcde45db581dcf51",
            "placeholder": "​",
            "style": "IPY_MODEL_d1b1a13c39be4619b8965de6c2e2ce88",
            "value": "<center> <img\nsrc=https://www.kaggle.com/static/images/site-logo.png\nalt='Kaggle'> <br> Create an API token from <a\nhref=\"https://www.kaggle.com/settings/account\" target=\"_blank\">your Kaggle\nsettings page</a> and paste it below along with your Kaggle username. <br> </center>"
          }
        },
        "4c6c48a1b86f4a778a2a6a2101c69ccb": {
          "model_module": "@jupyter-widgets/controls",
          "model_name": "TextModel",
          "model_module_version": "1.5.0",
          "state": {
            "_dom_classes": [],
            "_model_module": "@jupyter-widgets/controls",
            "_model_module_version": "1.5.0",
            "_model_name": "TextModel",
            "_view_count": null,
            "_view_module": "@jupyter-widgets/controls",
            "_view_module_version": "1.5.0",
            "_view_name": "TextView",
            "continuous_update": true,
            "description": "Username:",
            "description_tooltip": null,
            "disabled": false,
            "layout": "IPY_MODEL_8236952d54d149eea42493a7a4929fc6",
            "placeholder": "​",
            "style": "IPY_MODEL_5e71c116176645e9a5824296c848d107",
            "value": ""
          }
        },
        "550cfe8c81124ef0a2b2d9a2a519d6df": {
          "model_module": "@jupyter-widgets/controls",
          "model_name": "PasswordModel",
          "model_module_version": "1.5.0",
          "state": {
            "_dom_classes": [],
            "_model_module": "@jupyter-widgets/controls",
            "_model_module_version": "1.5.0",
            "_model_name": "PasswordModel",
            "_view_count": null,
            "_view_module": "@jupyter-widgets/controls",
            "_view_module_version": "1.5.0",
            "_view_name": "PasswordView",
            "continuous_update": true,
            "description": "Token:",
            "description_tooltip": null,
            "disabled": false,
            "layout": "IPY_MODEL_ea3f0a8dbed94ab0940ee883175dce2a",
            "placeholder": "​",
            "style": "IPY_MODEL_d3e591b85b134219bf036cc9d11b163d",
            "value": ""
          }
        },
        "712fea116c23437c9ed1a6c0e1066e1f": {
          "model_module": "@jupyter-widgets/controls",
          "model_name": "ButtonModel",
          "model_module_version": "1.5.0",
          "state": {
            "_dom_classes": [],
            "_model_module": "@jupyter-widgets/controls",
            "_model_module_version": "1.5.0",
            "_model_name": "ButtonModel",
            "_view_count": null,
            "_view_module": "@jupyter-widgets/controls",
            "_view_module_version": "1.5.0",
            "_view_name": "ButtonView",
            "button_style": "",
            "description": "Login",
            "disabled": false,
            "icon": "",
            "layout": "IPY_MODEL_57d4cf333e324c49a94aed89a0a351c7",
            "style": "IPY_MODEL_d867b0fddfa14deeb6829278ebbc44dd",
            "tooltip": ""
          }
        },
        "58773e16f8de441a98897592b1b16f7b": {
          "model_module": "@jupyter-widgets/controls",
          "model_name": "HTMLModel",
          "model_module_version": "1.5.0",
          "state": {
            "_dom_classes": [],
            "_model_module": "@jupyter-widgets/controls",
            "_model_module_version": "1.5.0",
            "_model_name": "HTMLModel",
            "_view_count": null,
            "_view_module": "@jupyter-widgets/controls",
            "_view_module_version": "1.5.0",
            "_view_name": "HTMLView",
            "description": "",
            "description_tooltip": null,
            "layout": "IPY_MODEL_448e47d388a049d7a1e895a20e461056",
            "placeholder": "​",
            "style": "IPY_MODEL_9aee85be8c5740d7bb503db75ef2740b",
            "value": "\n<b>Thank You</b></center>"
          }
        },
        "6e9e78be66204630964e739997e95e51": {
          "model_module": "@jupyter-widgets/base",
          "model_name": "LayoutModel",
          "model_module_version": "1.2.0",
          "state": {
            "_model_module": "@jupyter-widgets/base",
            "_model_module_version": "1.2.0",
            "_model_name": "LayoutModel",
            "_view_count": null,
            "_view_module": "@jupyter-widgets/base",
            "_view_module_version": "1.2.0",
            "_view_name": "LayoutView",
            "align_content": null,
            "align_items": "center",
            "align_self": null,
            "border": null,
            "bottom": null,
            "display": "flex",
            "flex": null,
            "flex_flow": "column",
            "grid_area": null,
            "grid_auto_columns": null,
            "grid_auto_flow": null,
            "grid_auto_rows": null,
            "grid_column": null,
            "grid_gap": null,
            "grid_row": null,
            "grid_template_areas": null,
            "grid_template_columns": null,
            "grid_template_rows": null,
            "height": null,
            "justify_content": null,
            "justify_items": null,
            "left": null,
            "margin": null,
            "max_height": null,
            "max_width": null,
            "min_height": null,
            "min_width": null,
            "object_fit": null,
            "object_position": null,
            "order": null,
            "overflow": null,
            "overflow_x": null,
            "overflow_y": null,
            "padding": null,
            "right": null,
            "top": null,
            "visibility": null,
            "width": "50%"
          }
        },
        "7f2f216b43cb4429bcde45db581dcf51": {
          "model_module": "@jupyter-widgets/base",
          "model_name": "LayoutModel",
          "model_module_version": "1.2.0",
          "state": {
            "_model_module": "@jupyter-widgets/base",
            "_model_module_version": "1.2.0",
            "_model_name": "LayoutModel",
            "_view_count": null,
            "_view_module": "@jupyter-widgets/base",
            "_view_module_version": "1.2.0",
            "_view_name": "LayoutView",
            "align_content": null,
            "align_items": null,
            "align_self": null,
            "border": null,
            "bottom": null,
            "display": null,
            "flex": null,
            "flex_flow": null,
            "grid_area": null,
            "grid_auto_columns": null,
            "grid_auto_flow": null,
            "grid_auto_rows": null,
            "grid_column": null,
            "grid_gap": null,
            "grid_row": null,
            "grid_template_areas": null,
            "grid_template_columns": null,
            "grid_template_rows": null,
            "height": null,
            "justify_content": null,
            "justify_items": null,
            "left": null,
            "margin": null,
            "max_height": null,
            "max_width": null,
            "min_height": null,
            "min_width": null,
            "object_fit": null,
            "object_position": null,
            "order": null,
            "overflow": null,
            "overflow_x": null,
            "overflow_y": null,
            "padding": null,
            "right": null,
            "top": null,
            "visibility": null,
            "width": null
          }
        },
        "d1b1a13c39be4619b8965de6c2e2ce88": {
          "model_module": "@jupyter-widgets/controls",
          "model_name": "DescriptionStyleModel",
          "model_module_version": "1.5.0",
          "state": {
            "_model_module": "@jupyter-widgets/controls",
            "_model_module_version": "1.5.0",
            "_model_name": "DescriptionStyleModel",
            "_view_count": null,
            "_view_module": "@jupyter-widgets/base",
            "_view_module_version": "1.2.0",
            "_view_name": "StyleView",
            "description_width": ""
          }
        },
        "8236952d54d149eea42493a7a4929fc6": {
          "model_module": "@jupyter-widgets/base",
          "model_name": "LayoutModel",
          "model_module_version": "1.2.0",
          "state": {
            "_model_module": "@jupyter-widgets/base",
            "_model_module_version": "1.2.0",
            "_model_name": "LayoutModel",
            "_view_count": null,
            "_view_module": "@jupyter-widgets/base",
            "_view_module_version": "1.2.0",
            "_view_name": "LayoutView",
            "align_content": null,
            "align_items": null,
            "align_self": null,
            "border": null,
            "bottom": null,
            "display": null,
            "flex": null,
            "flex_flow": null,
            "grid_area": null,
            "grid_auto_columns": null,
            "grid_auto_flow": null,
            "grid_auto_rows": null,
            "grid_column": null,
            "grid_gap": null,
            "grid_row": null,
            "grid_template_areas": null,
            "grid_template_columns": null,
            "grid_template_rows": null,
            "height": null,
            "justify_content": null,
            "justify_items": null,
            "left": null,
            "margin": null,
            "max_height": null,
            "max_width": null,
            "min_height": null,
            "min_width": null,
            "object_fit": null,
            "object_position": null,
            "order": null,
            "overflow": null,
            "overflow_x": null,
            "overflow_y": null,
            "padding": null,
            "right": null,
            "top": null,
            "visibility": null,
            "width": null
          }
        },
        "5e71c116176645e9a5824296c848d107": {
          "model_module": "@jupyter-widgets/controls",
          "model_name": "DescriptionStyleModel",
          "model_module_version": "1.5.0",
          "state": {
            "_model_module": "@jupyter-widgets/controls",
            "_model_module_version": "1.5.0",
            "_model_name": "DescriptionStyleModel",
            "_view_count": null,
            "_view_module": "@jupyter-widgets/base",
            "_view_module_version": "1.2.0",
            "_view_name": "StyleView",
            "description_width": ""
          }
        },
        "ea3f0a8dbed94ab0940ee883175dce2a": {
          "model_module": "@jupyter-widgets/base",
          "model_name": "LayoutModel",
          "model_module_version": "1.2.0",
          "state": {
            "_model_module": "@jupyter-widgets/base",
            "_model_module_version": "1.2.0",
            "_model_name": "LayoutModel",
            "_view_count": null,
            "_view_module": "@jupyter-widgets/base",
            "_view_module_version": "1.2.0",
            "_view_name": "LayoutView",
            "align_content": null,
            "align_items": null,
            "align_self": null,
            "border": null,
            "bottom": null,
            "display": null,
            "flex": null,
            "flex_flow": null,
            "grid_area": null,
            "grid_auto_columns": null,
            "grid_auto_flow": null,
            "grid_auto_rows": null,
            "grid_column": null,
            "grid_gap": null,
            "grid_row": null,
            "grid_template_areas": null,
            "grid_template_columns": null,
            "grid_template_rows": null,
            "height": null,
            "justify_content": null,
            "justify_items": null,
            "left": null,
            "margin": null,
            "max_height": null,
            "max_width": null,
            "min_height": null,
            "min_width": null,
            "object_fit": null,
            "object_position": null,
            "order": null,
            "overflow": null,
            "overflow_x": null,
            "overflow_y": null,
            "padding": null,
            "right": null,
            "top": null,
            "visibility": null,
            "width": null
          }
        },
        "d3e591b85b134219bf036cc9d11b163d": {
          "model_module": "@jupyter-widgets/controls",
          "model_name": "DescriptionStyleModel",
          "model_module_version": "1.5.0",
          "state": {
            "_model_module": "@jupyter-widgets/controls",
            "_model_module_version": "1.5.0",
            "_model_name": "DescriptionStyleModel",
            "_view_count": null,
            "_view_module": "@jupyter-widgets/base",
            "_view_module_version": "1.2.0",
            "_view_name": "StyleView",
            "description_width": ""
          }
        },
        "57d4cf333e324c49a94aed89a0a351c7": {
          "model_module": "@jupyter-widgets/base",
          "model_name": "LayoutModel",
          "model_module_version": "1.2.0",
          "state": {
            "_model_module": "@jupyter-widgets/base",
            "_model_module_version": "1.2.0",
            "_model_name": "LayoutModel",
            "_view_count": null,
            "_view_module": "@jupyter-widgets/base",
            "_view_module_version": "1.2.0",
            "_view_name": "LayoutView",
            "align_content": null,
            "align_items": null,
            "align_self": null,
            "border": null,
            "bottom": null,
            "display": null,
            "flex": null,
            "flex_flow": null,
            "grid_area": null,
            "grid_auto_columns": null,
            "grid_auto_flow": null,
            "grid_auto_rows": null,
            "grid_column": null,
            "grid_gap": null,
            "grid_row": null,
            "grid_template_areas": null,
            "grid_template_columns": null,
            "grid_template_rows": null,
            "height": null,
            "justify_content": null,
            "justify_items": null,
            "left": null,
            "margin": null,
            "max_height": null,
            "max_width": null,
            "min_height": null,
            "min_width": null,
            "object_fit": null,
            "object_position": null,
            "order": null,
            "overflow": null,
            "overflow_x": null,
            "overflow_y": null,
            "padding": null,
            "right": null,
            "top": null,
            "visibility": null,
            "width": null
          }
        },
        "d867b0fddfa14deeb6829278ebbc44dd": {
          "model_module": "@jupyter-widgets/controls",
          "model_name": "ButtonStyleModel",
          "model_module_version": "1.5.0",
          "state": {
            "_model_module": "@jupyter-widgets/controls",
            "_model_module_version": "1.5.0",
            "_model_name": "ButtonStyleModel",
            "_view_count": null,
            "_view_module": "@jupyter-widgets/base",
            "_view_module_version": "1.2.0",
            "_view_name": "StyleView",
            "button_color": null,
            "font_weight": ""
          }
        },
        "448e47d388a049d7a1e895a20e461056": {
          "model_module": "@jupyter-widgets/base",
          "model_name": "LayoutModel",
          "model_module_version": "1.2.0",
          "state": {
            "_model_module": "@jupyter-widgets/base",
            "_model_module_version": "1.2.0",
            "_model_name": "LayoutModel",
            "_view_count": null,
            "_view_module": "@jupyter-widgets/base",
            "_view_module_version": "1.2.0",
            "_view_name": "LayoutView",
            "align_content": null,
            "align_items": null,
            "align_self": null,
            "border": null,
            "bottom": null,
            "display": null,
            "flex": null,
            "flex_flow": null,
            "grid_area": null,
            "grid_auto_columns": null,
            "grid_auto_flow": null,
            "grid_auto_rows": null,
            "grid_column": null,
            "grid_gap": null,
            "grid_row": null,
            "grid_template_areas": null,
            "grid_template_columns": null,
            "grid_template_rows": null,
            "height": null,
            "justify_content": null,
            "justify_items": null,
            "left": null,
            "margin": null,
            "max_height": null,
            "max_width": null,
            "min_height": null,
            "min_width": null,
            "object_fit": null,
            "object_position": null,
            "order": null,
            "overflow": null,
            "overflow_x": null,
            "overflow_y": null,
            "padding": null,
            "right": null,
            "top": null,
            "visibility": null,
            "width": null
          }
        },
        "9aee85be8c5740d7bb503db75ef2740b": {
          "model_module": "@jupyter-widgets/controls",
          "model_name": "DescriptionStyleModel",
          "model_module_version": "1.5.0",
          "state": {
            "_model_module": "@jupyter-widgets/controls",
            "_model_module_version": "1.5.0",
            "_model_name": "DescriptionStyleModel",
            "_view_count": null,
            "_view_module": "@jupyter-widgets/base",
            "_view_module_version": "1.2.0",
            "_view_name": "StyleView",
            "description_width": ""
          }
        }
      }
    }
  },
  "nbformat_minor": 0,
  "nbformat": 4,
  "cells": [
    {
      "cell_type": "markdown",
      "metadata": {
        "id": "view-in-github",
        "colab_type": "text"
      },
      "source": [
        "<a href=\"https://colab.research.google.com/github/aalfaromarmol/11_20_23_AAM/blob/main/Copy_of_Fine_tuning_bge_%5BTrain%5D.ipynb\" target=\"_parent\"><img src=\"https://colab.research.google.com/assets/colab-badge.svg\" alt=\"Open In Colab\"/></a>"
      ]
    },
    {
      "source": [
        "# IMPORTANT: SOME KAGGLE DATA SOURCES ARE PRIVATE\n",
        "# RUN THIS CELL IN ORDER TO IMPORT YOUR KAGGLE DATA SOURCES.\n",
        "import kagglehub\n",
        "kagglehub.login()\n"
      ],
      "metadata": {
        "id": "ZBX_rvnjkGPq",
        "outputId": "ffed366a-3c88-4cdb-d89f-586c8605bda7",
        "colab": {
          "base_uri": "https://localhost:8080/",
          "height": 273,
          "referenced_widgets": [
            "b472eb235cce43618ce5bb295a8df703",
            "10c54aa7ae9c46849f1680903e9a863f",
            "4c6c48a1b86f4a778a2a6a2101c69ccb",
            "550cfe8c81124ef0a2b2d9a2a519d6df",
            "712fea116c23437c9ed1a6c0e1066e1f",
            "58773e16f8de441a98897592b1b16f7b",
            "6e9e78be66204630964e739997e95e51",
            "7f2f216b43cb4429bcde45db581dcf51",
            "d1b1a13c39be4619b8965de6c2e2ce88",
            "8236952d54d149eea42493a7a4929fc6",
            "5e71c116176645e9a5824296c848d107",
            "ea3f0a8dbed94ab0940ee883175dce2a",
            "d3e591b85b134219bf036cc9d11b163d",
            "57d4cf333e324c49a94aed89a0a351c7",
            "d867b0fddfa14deeb6829278ebbc44dd",
            "448e47d388a049d7a1e895a20e461056",
            "9aee85be8c5740d7bb503db75ef2740b"
          ]
        }
      },
      "cell_type": "code",
      "outputs": [
        {
          "output_type": "display_data",
          "data": {
            "text/plain": [
              "VBox(children=(HTML(value='<center> <img\\nsrc=https://www.kaggle.com/static/images/site-logo.png\\nalt=\\'Kaggle…"
            ],
            "application/vnd.jupyter.widget-view+json": {
              "version_major": 2,
              "version_minor": 0,
              "model_id": "b472eb235cce43618ce5bb295a8df703"
            }
          },
          "metadata": {}
        }
      ],
      "execution_count": 6
    },
    {
      "source": [
        "# IMPORTANT: RUN THIS CELL IN ORDER TO IMPORT YOUR KAGGLE DATA SOURCES,\n",
        "# THEN FEEL FREE TO DELETE THIS CELL.\n",
        "# NOTE: THIS NOTEBOOK ENVIRONMENT DIFFERS FROM KAGGLE'S PYTHON\n",
        "# ENVIRONMENT SO THERE MAY BE MISSING LIBRARIES USED BY YOUR\n",
        "# NOTEBOOK.\n",
        "\n",
        "eedi_mining_misconceptions_in_mathematics_path = kagglehub.competition_download('eedi-mining-misconceptions-in-mathematics')\n",
        "\n",
        "print('Data source import complete.')\n"
      ],
      "metadata": {
        "id": "mQ0gh9afkGPr",
        "colab": {
          "base_uri": "https://localhost:8080/"
        },
        "outputId": "6929b5f2-8c25-40b5-b454-7db959b12876"
      },
      "cell_type": "code",
      "outputs": [
        {
          "output_type": "stream",
          "name": "stdout",
          "text": [
            "Data source import complete.\n"
          ]
        }
      ],
      "execution_count": 7
    },
    {
      "cell_type": "markdown",
      "source": [
        "# Overview\n",
        "\n",
        "- [Infer Notebook](https://www.kaggle.com/code/sinchir0/fine-tuning-bge-infer/notebook)\n",
        "\n",
        "- make 25 retrieval data by `bge-large-en-v1.5`\n",
        "- Fine-tuning `bge-large-en-v1.5` by retrieval data\n",
        "  - `anchor`: `ConstructName` + `SubjectName` + `QuestionText` + `Answer[A-D]Text`\n",
        "  - `positive`: Correct MisconceptionName\n",
        "  - `negative`: Wrong MisconceptionName\n",
        "\n",
        "ref: https://sbert.net/docs/sentence_transformer/training_overview.html#trainer"
      ],
      "metadata": {
        "papermill": {
          "duration": 0.011532,
          "end_time": "2024-09-14T01:45:57.074016",
          "exception": false,
          "start_time": "2024-09-14T01:45:57.062484",
          "status": "completed"
        },
        "tags": [],
        "id": "JeYevmnEkGPs"
      }
    },
    {
      "cell_type": "markdown",
      "source": [
        "# Setting"
      ],
      "metadata": {
        "id": "cdezJTI1kGPt"
      }
    },
    {
      "cell_type": "code",
      "source": [
        "EXP_NAME = \"fine-tuning-bge\"\n",
        "DATA_PATH = \"/kaggle/input/eedi-mining-misconceptions-in-mathematics\"\n",
        "MODEL_NAME = \"BAAI/bge-large-en-v1.5\"\n",
        "COMPETITION_NAME = \"eedi-mining-misconceptions-in-mathematics\"\n",
        "OUTPUT_PATH = \".\"\n",
        "MODEL_OUTPUT_PATH = f\"{OUTPUT_PATH}/trained_model\"\n",
        "\n",
        "RETRIEVE_NUM = 25\n",
        "\n",
        "EPOCH = 2\n",
        "LR = 2e-05\n",
        "BS = 8\n",
        "GRAD_ACC_STEP = 128 // BS\n",
        "\n",
        "TRAINING = True\n",
        "DEBUG = False\n",
        "WANDB = True"
      ],
      "metadata": {
        "execution": {
          "iopub.status.busy": "2024-09-21T09:01:11.066799Z",
          "iopub.execute_input": "2024-09-21T09:01:11.067099Z",
          "iopub.status.idle": "2024-09-21T09:01:11.078672Z",
          "shell.execute_reply.started": "2024-09-21T09:01:11.06706Z",
          "shell.execute_reply": "2024-09-21T09:01:11.077784Z"
        },
        "trusted": true,
        "id": "IXWr5xTQkGPu"
      },
      "outputs": [],
      "execution_count": 8
    },
    {
      "cell_type": "markdown",
      "source": [
        "# Install"
      ],
      "metadata": {
        "id": "Zvrw7f32kGPu"
      }
    },
    {
      "cell_type": "code",
      "source": [
        "%pip install -qq polars==1.7.1\n",
        "%pip install -qq datasets==3.0.0\n",
        "%pip install -qq sentence_transformers==3.1.0"
      ],
      "metadata": {
        "execution": {
          "iopub.status.busy": "2024-09-21T09:01:11.080359Z",
          "iopub.execute_input": "2024-09-21T09:01:11.080721Z",
          "iopub.status.idle": "2024-09-21T09:01:54.697123Z",
          "shell.execute_reply.started": "2024-09-21T09:01:11.080679Z",
          "shell.execute_reply": "2024-09-21T09:01:54.695981Z"
        },
        "trusted": true,
        "id": "2NqJWH9KkGPu"
      },
      "outputs": [],
      "execution_count": 9
    },
    {
      "cell_type": "markdown",
      "source": [
        "# Import"
      ],
      "metadata": {
        "papermill": {
          "duration": 0.010544,
          "end_time": "2024-09-14T01:45:57.095623",
          "exception": false,
          "start_time": "2024-09-14T01:45:57.085079",
          "status": "completed"
        },
        "tags": [],
        "id": "UvsTtoaTkGPv"
      }
    },
    {
      "cell_type": "code",
      "source": [
        "import os\n",
        "import numpy as np\n",
        "\n",
        "from datasets import load_dataset, Dataset\n",
        "\n",
        "import wandb\n",
        "import polars as pl\n",
        "\n",
        "from sklearn.metrics.pairwise import cosine_similarity\n",
        "\n",
        "from sentence_transformers.losses import MultipleNegativesRankingLoss\n",
        "from sentence_transformers import (\n",
        "    SentenceTransformer,\n",
        "    SentenceTransformerTrainer,\n",
        "    SentenceTransformerTrainingArguments,\n",
        ")\n",
        "from sentence_transformers.training_args import BatchSamplers\n",
        "from sentence_transformers.evaluation import TripletEvaluator"
      ],
      "metadata": {
        "_cell_guid": "b1076dfc-b9ad-4769-8c92-a6c4dae69d19",
        "_uuid": "8f2839f25d086af736a60e9eeb907d3b93b6e0e5",
        "papermill": {
          "duration": 2.430721,
          "end_time": "2024-09-14T01:45:59.537229",
          "exception": false,
          "start_time": "2024-09-14T01:45:57.106508",
          "status": "completed"
        },
        "tags": [],
        "execution": {
          "iopub.status.busy": "2024-09-21T09:01:54.699559Z",
          "iopub.execute_input": "2024-09-21T09:01:54.700465Z",
          "iopub.status.idle": "2024-09-21T09:02:13.969928Z",
          "shell.execute_reply.started": "2024-09-21T09:01:54.700415Z",
          "shell.execute_reply": "2024-09-21T09:02:13.968865Z"
        },
        "trusted": true,
        "id": "qrlhyqE1kGPv"
      },
      "outputs": [],
      "execution_count": 10
    },
    {
      "cell_type": "code",
      "source": [
        "import datasets\n",
        "import sentence_transformers\n",
        "\n",
        "assert pl.__version__ == \"1.7.1\"\n",
        "assert datasets.__version__ == \"3.0.0\"\n",
        "assert sentence_transformers.__version__ == \"3.1.0\""
      ],
      "metadata": {
        "execution": {
          "iopub.status.busy": "2024-09-21T09:02:13.97118Z",
          "iopub.execute_input": "2024-09-21T09:02:13.971981Z",
          "iopub.status.idle": "2024-09-21T09:02:13.976794Z",
          "shell.execute_reply.started": "2024-09-21T09:02:13.971942Z",
          "shell.execute_reply": "2024-09-21T09:02:13.975687Z"
        },
        "trusted": true,
        "id": "VqmW3bZKkGPw"
      },
      "outputs": [],
      "execution_count": 11
    },
    {
      "cell_type": "code",
      "source": [
        "NUM_PROC = os.cpu_count()"
      ],
      "metadata": {
        "execution": {
          "iopub.status.busy": "2024-09-21T09:02:13.979537Z",
          "iopub.execute_input": "2024-09-21T09:02:13.979901Z",
          "iopub.status.idle": "2024-09-21T09:02:14.023617Z",
          "shell.execute_reply.started": "2024-09-21T09:02:13.979859Z",
          "shell.execute_reply": "2024-09-21T09:02:14.022684Z"
        },
        "trusted": true,
        "id": "J0oZ-DUUkGPw"
      },
      "outputs": [],
      "execution_count": 12
    },
    {
      "cell_type": "markdown",
      "source": [
        "# WANDB"
      ],
      "metadata": {
        "id": "UtV9ifZJkGPw"
      }
    },
    {
      "cell_type": "code",
      "source": [
        "if WANDB:\n",
        "    # Settings -> add wandb api\n",
        "    from kaggle_secrets import UserSecretsClient\n",
        "    user_secrets = UserSecretsClient()\n",
        "    wandb.login(key=user_secrets.get_secret(\"wandb_api\"))\n",
        "    wandb.init(project=COMPETITION_NAME, name=EXP_NAME)\n",
        "    REPORT_TO = \"wandb\"\n",
        "else:\n",
        "    REPORT_TO = \"none\"\n",
        "\n",
        "REPORT_TO"
      ],
      "metadata": {
        "autoscroll": "auto",
        "jupyter": {
          "outputs_hidden": false
        },
        "execution": {
          "iopub.status.busy": "2024-09-21T09:02:14.025026Z",
          "iopub.execute_input": "2024-09-21T09:02:14.025384Z",
          "iopub.status.idle": "2024-09-21T09:02:34.280295Z",
          "shell.execute_reply.started": "2024-09-21T09:02:14.025337Z",
          "shell.execute_reply": "2024-09-21T09:02:34.279352Z"
        },
        "trusted": true,
        "id": "pe8lbUPYkGPx",
        "colab": {
          "base_uri": "https://localhost:8080/",
          "height": 383
        },
        "outputId": "47b77da8-b314-4a88-ec52-712f6fb98b51"
      },
      "outputs": [
        {
          "output_type": "error",
          "ename": "ModuleNotFoundError",
          "evalue": "No module named 'kaggle_secrets'",
          "traceback": [
            "\u001b[0;31m---------------------------------------------------------------------------\u001b[0m",
            "\u001b[0;31mModuleNotFoundError\u001b[0m                       Traceback (most recent call last)",
            "\u001b[0;32m<ipython-input-13-dd79c134cf71>\u001b[0m in \u001b[0;36m<cell line: 1>\u001b[0;34m()\u001b[0m\n\u001b[1;32m      1\u001b[0m \u001b[0;32mif\u001b[0m \u001b[0mWANDB\u001b[0m\u001b[0;34m:\u001b[0m\u001b[0;34m\u001b[0m\u001b[0;34m\u001b[0m\u001b[0m\n\u001b[1;32m      2\u001b[0m     \u001b[0;31m# Settings -> add wandb api\u001b[0m\u001b[0;34m\u001b[0m\u001b[0;34m\u001b[0m\u001b[0m\n\u001b[0;32m----> 3\u001b[0;31m     \u001b[0;32mfrom\u001b[0m \u001b[0mkaggle_secrets\u001b[0m \u001b[0;32mimport\u001b[0m \u001b[0mUserSecretsClient\u001b[0m\u001b[0;34m\u001b[0m\u001b[0;34m\u001b[0m\u001b[0m\n\u001b[0m\u001b[1;32m      4\u001b[0m     \u001b[0muser_secrets\u001b[0m \u001b[0;34m=\u001b[0m \u001b[0mUserSecretsClient\u001b[0m\u001b[0;34m(\u001b[0m\u001b[0;34m)\u001b[0m\u001b[0;34m\u001b[0m\u001b[0;34m\u001b[0m\u001b[0m\n\u001b[1;32m      5\u001b[0m     \u001b[0mwandb\u001b[0m\u001b[0;34m.\u001b[0m\u001b[0mlogin\u001b[0m\u001b[0;34m(\u001b[0m\u001b[0mkey\u001b[0m\u001b[0;34m=\u001b[0m\u001b[0muser_secrets\u001b[0m\u001b[0;34m.\u001b[0m\u001b[0mget_secret\u001b[0m\u001b[0;34m(\u001b[0m\u001b[0;34m\"wandb_api\"\u001b[0m\u001b[0;34m)\u001b[0m\u001b[0;34m)\u001b[0m\u001b[0;34m\u001b[0m\u001b[0;34m\u001b[0m\u001b[0m\n",
            "\u001b[0;31mModuleNotFoundError\u001b[0m: No module named 'kaggle_secrets'",
            "",
            "\u001b[0;31m---------------------------------------------------------------------------\u001b[0;32m\nNOTE: If your import is failing due to a missing package, you can\nmanually install dependencies using either !pip or !apt.\n\nTo view examples of installing some common dependencies, click the\n\"Open Examples\" button below.\n\u001b[0;31m---------------------------------------------------------------------------\u001b[0m\n"
          ],
          "errorDetails": {
            "actions": [
              {
                "action": "open_url",
                "actionText": "Open Examples",
                "url": "/notebooks/snippets/importing_libraries.ipynb"
              }
            ]
          }
        }
      ],
      "execution_count": 13
    },
    {
      "cell_type": "markdown",
      "source": [
        "# Data Load"
      ],
      "metadata": {
        "id": "nrZZI0FSkGPx"
      }
    },
    {
      "cell_type": "code",
      "source": [
        "train = pl.read_csv(f\"{DATA_PATH}/train.csv\")\n",
        "misconception_mapping = pl.read_csv(f\"{DATA_PATH}/misconception_mapping.csv\")"
      ],
      "metadata": {
        "execution": {
          "iopub.status.busy": "2024-09-21T09:02:34.281563Z",
          "iopub.execute_input": "2024-09-21T09:02:34.281868Z",
          "iopub.status.idle": "2024-09-21T09:02:34.331255Z",
          "shell.execute_reply.started": "2024-09-21T09:02:34.281836Z",
          "shell.execute_reply": "2024-09-21T09:02:34.330167Z"
        },
        "trusted": true,
        "id": "Bi6Gv0f-kGPx"
      },
      "outputs": [],
      "execution_count": null
    },
    {
      "cell_type": "code",
      "source": [
        "common_col = [\n",
        "    \"QuestionId\",\n",
        "    \"ConstructName\",\n",
        "    \"SubjectName\",\n",
        "    \"QuestionText\",\n",
        "    \"CorrectAnswer\",\n",
        "]\n",
        "\n",
        "train_long = (\n",
        "    train\n",
        "    .select(\n",
        "        pl.col(common_col + [f\"Answer{alpha}Text\" for alpha in [\"A\", \"B\", \"C\", \"D\"]])\n",
        "    )\n",
        "    .unpivot(\n",
        "        index=common_col,\n",
        "        variable_name=\"AnswerType\",\n",
        "        value_name=\"AnswerText\",\n",
        "    )\n",
        "    .with_columns(\n",
        "        pl.concat_str(\n",
        "            [\n",
        "                pl.col(\"ConstructName\"),\n",
        "                pl.col(\"SubjectName\"),\n",
        "                pl.col(\"QuestionText\"),\n",
        "                pl.col(\"AnswerText\"),\n",
        "            ],\n",
        "            separator=\" \",\n",
        "        ).alias(\"AllText\"),\n",
        "        pl.col(\"AnswerType\").str.extract(r\"Answer([A-D])Text$\").alias(\"AnswerAlphabet\"),\n",
        "    )\n",
        "    .with_columns(\n",
        "        pl.concat_str(\n",
        "            [pl.col(\"QuestionId\"), pl.col(\"AnswerAlphabet\")], separator=\"_\"\n",
        "        ).alias(\"QuestionId_Answer\"),\n",
        "    )\n",
        "    .sort(\"QuestionId_Answer\")\n",
        ")\n",
        "train_long.head()"
      ],
      "metadata": {
        "execution": {
          "iopub.status.busy": "2024-09-21T09:02:34.332649Z",
          "iopub.execute_input": "2024-09-21T09:02:34.332945Z",
          "iopub.status.idle": "2024-09-21T09:02:34.360299Z",
          "shell.execute_reply.started": "2024-09-21T09:02:34.332914Z",
          "shell.execute_reply": "2024-09-21T09:02:34.359385Z"
        },
        "trusted": true,
        "id": "gXxINUt1kGPx"
      },
      "outputs": [],
      "execution_count": null
    },
    {
      "cell_type": "code",
      "source": [
        "train_misconception_long = (\n",
        "    train.select(\n",
        "        pl.col(\n",
        "            common_col + [f\"Misconception{alpha}Id\" for alpha in [\"A\", \"B\", \"C\", \"D\"]]\n",
        "        )\n",
        "    )\n",
        "    .unpivot(\n",
        "        index=common_col,\n",
        "        variable_name=\"MisconceptionType\",\n",
        "        value_name=\"MisconceptionId\",\n",
        "    )\n",
        "    .with_columns(\n",
        "        pl.col(\"MisconceptionType\")\n",
        "        .str.extract(r\"Misconception([A-D])Id$\")\n",
        "        .alias(\"AnswerAlphabet\"),\n",
        "    )\n",
        "    .with_columns(\n",
        "        pl.concat_str(\n",
        "            [pl.col(\"QuestionId\"), pl.col(\"AnswerAlphabet\")], separator=\"_\"\n",
        "        ).alias(\"QuestionId_Answer\"),\n",
        "    )\n",
        "    .sort(\"QuestionId_Answer\")\n",
        "    .select(pl.col([\"QuestionId_Answer\", \"MisconceptionId\"]))\n",
        "    .with_columns(pl.col(\"MisconceptionId\").cast(pl.Int64))\n",
        ")\n",
        "\n",
        "train_misconception_long.head()"
      ],
      "metadata": {
        "execution": {
          "iopub.status.busy": "2024-09-21T09:02:34.363197Z",
          "iopub.execute_input": "2024-09-21T09:02:34.363573Z",
          "iopub.status.idle": "2024-09-21T09:02:34.381095Z",
          "shell.execute_reply.started": "2024-09-21T09:02:34.36354Z",
          "shell.execute_reply": "2024-09-21T09:02:34.379961Z"
        },
        "trusted": true,
        "id": "NGBvvdIMkGPy"
      },
      "outputs": [],
      "execution_count": null
    },
    {
      "cell_type": "code",
      "source": [
        "# join MisconceptionId\n",
        "train_long = train_long.join(train_misconception_long, on=\"QuestionId_Answer\")\n",
        "train_long.head()"
      ],
      "metadata": {
        "execution": {
          "iopub.status.busy": "2024-09-21T09:02:34.38238Z",
          "iopub.execute_input": "2024-09-21T09:02:34.38287Z",
          "iopub.status.idle": "2024-09-21T09:02:34.396231Z",
          "shell.execute_reply.started": "2024-09-21T09:02:34.382836Z",
          "shell.execute_reply": "2024-09-21T09:02:34.395371Z"
        },
        "trusted": true,
        "id": "B1oYMGECkGPy"
      },
      "outputs": [],
      "execution_count": null
    },
    {
      "cell_type": "markdown",
      "source": [
        "# Make retrieval data"
      ],
      "metadata": {
        "id": "BcXHKEJgkGPy"
      }
    },
    {
      "cell_type": "code",
      "source": [
        "model = SentenceTransformer(MODEL_NAME)\n",
        "\n",
        "train_long_vec = model.encode(\n",
        "    train_long[\"AllText\"].to_list(), normalize_embeddings=True\n",
        ")\n",
        "misconception_mapping_vec = model.encode(\n",
        "    misconception_mapping[\"MisconceptionName\"].to_list(), normalize_embeddings=True\n",
        ")\n",
        "print(train_long_vec.shape)\n",
        "print(misconception_mapping_vec.shape)"
      ],
      "metadata": {
        "execution": {
          "iopub.status.busy": "2024-09-21T09:02:34.399244Z",
          "iopub.execute_input": "2024-09-21T09:02:34.399569Z",
          "iopub.status.idle": "2024-09-21T09:03:00.80903Z",
          "shell.execute_reply.started": "2024-09-21T09:02:34.399537Z",
          "shell.execute_reply": "2024-09-21T09:03:00.80816Z"
        },
        "trusted": true,
        "id": "UXsK2h3bkGPy"
      },
      "outputs": [],
      "execution_count": null
    },
    {
      "cell_type": "code",
      "source": [
        "train_cos_sim_arr = cosine_similarity(train_long_vec, misconception_mapping_vec)\n",
        "train_sorted_indices = np.argsort(-train_cos_sim_arr, axis=1)"
      ],
      "metadata": {
        "execution": {
          "iopub.status.busy": "2024-09-21T09:03:00.810246Z",
          "iopub.execute_input": "2024-09-21T09:03:00.810665Z",
          "iopub.status.idle": "2024-09-21T09:03:01.466679Z",
          "shell.execute_reply.started": "2024-09-21T09:03:00.810602Z",
          "shell.execute_reply": "2024-09-21T09:03:01.465573Z"
        },
        "trusted": true,
        "id": "9Y5iS4RbkGPy"
      },
      "outputs": [],
      "execution_count": null
    },
    {
      "cell_type": "code",
      "source": [
        "train_long = train_long.with_columns(\n",
        "    pl.Series(train_sorted_indices[:, :RETRIEVE_NUM].tolist()).alias(\n",
        "        \"PredictMisconceptionId\"\n",
        "    )\n",
        ")"
      ],
      "metadata": {
        "execution": {
          "iopub.status.busy": "2024-09-21T09:03:01.467987Z",
          "iopub.execute_input": "2024-09-21T09:03:01.468313Z",
          "iopub.status.idle": "2024-09-21T09:03:01.61376Z",
          "shell.execute_reply.started": "2024-09-21T09:03:01.468278Z",
          "shell.execute_reply": "2024-09-21T09:03:01.612848Z"
        },
        "trusted": true,
        "id": "p3WU8AKEkGPy"
      },
      "outputs": [],
      "execution_count": null
    },
    {
      "cell_type": "code",
      "source": [
        "train_retrieved = (\n",
        "    train_long.filter(\n",
        "        pl.col(\n",
        "            \"MisconceptionId\"\n",
        "        ).is_not_null()  # TODO: Consider ways to utilize data where MisconceptionId is NaN.\n",
        "    )\n",
        "    .explode(\"PredictMisconceptionId\")\n",
        "    .join(\n",
        "        misconception_mapping,\n",
        "        on=\"MisconceptionId\",\n",
        "    )\n",
        "    .join(\n",
        "        misconception_mapping.rename(lambda x: \"Predict\" + x),\n",
        "        on=\"PredictMisconceptionId\",\n",
        "    )\n",
        ")\n",
        "train_retrieved.shape"
      ],
      "metadata": {
        "execution": {
          "iopub.status.busy": "2024-09-21T09:03:01.615607Z",
          "iopub.execute_input": "2024-09-21T09:03:01.616504Z",
          "iopub.status.idle": "2024-09-21T09:03:01.653279Z",
          "shell.execute_reply.started": "2024-09-21T09:03:01.616452Z",
          "shell.execute_reply": "2024-09-21T09:03:01.652352Z"
        },
        "trusted": true,
        "id": "EEtkeDt4kGPz"
      },
      "outputs": [],
      "execution_count": null
    },
    {
      "cell_type": "markdown",
      "source": [
        "# Fine-Tune bge"
      ],
      "metadata": {
        "id": "rzBrmIbhkGPz"
      }
    },
    {
      "cell_type": "code",
      "source": [
        "train = (\n",
        "    Dataset.from_polars(train_retrieved)\n",
        "    .filter(  # To create an anchor, positive, and negative structure, delete rows where the positive and negative are identical.\n",
        "        lambda example: example[\"MisconceptionId\"] != example[\"PredictMisconceptionId\"],\n",
        "        num_proc=NUM_PROC,\n",
        "    )\n",
        ")"
      ],
      "metadata": {
        "execution": {
          "iopub.status.busy": "2024-09-21T09:03:01.654442Z",
          "iopub.execute_input": "2024-09-21T09:03:01.655171Z",
          "iopub.status.idle": "2024-09-21T09:03:05.999815Z",
          "shell.execute_reply.started": "2024-09-21T09:03:01.655125Z",
          "shell.execute_reply": "2024-09-21T09:03:05.99862Z"
        },
        "trusted": true,
        "id": "HUg39G9MkGPz"
      },
      "outputs": [],
      "execution_count": null
    },
    {
      "cell_type": "code",
      "source": [
        "train"
      ],
      "metadata": {
        "execution": {
          "iopub.status.busy": "2024-09-21T09:03:06.001354Z",
          "iopub.execute_input": "2024-09-21T09:03:06.002597Z",
          "iopub.status.idle": "2024-09-21T09:03:06.010203Z",
          "shell.execute_reply.started": "2024-09-21T09:03:06.002562Z",
          "shell.execute_reply": "2024-09-21T09:03:06.009159Z"
        },
        "trusted": true,
        "id": "bcIKYKwjkGPz"
      },
      "outputs": [],
      "execution_count": null
    },
    {
      "cell_type": "code",
      "source": [
        "if DEBUG:\n",
        "    train = train.select(range(1000))\n",
        "    EPOCH = 1"
      ],
      "metadata": {
        "execution": {
          "iopub.status.busy": "2024-09-21T09:03:06.011529Z",
          "iopub.execute_input": "2024-09-21T09:03:06.01185Z",
          "iopub.status.idle": "2024-09-21T09:03:06.023746Z",
          "shell.execute_reply.started": "2024-09-21T09:03:06.011819Z",
          "shell.execute_reply": "2024-09-21T09:03:06.022884Z"
        },
        "trusted": true,
        "id": "NZT1rEBvkGPz"
      },
      "outputs": [],
      "execution_count": null
    },
    {
      "cell_type": "code",
      "source": [
        "model = SentenceTransformer(MODEL_NAME)\n",
        "\n",
        "loss = MultipleNegativesRankingLoss(model)\n",
        "\n",
        "args = SentenceTransformerTrainingArguments(\n",
        "    # Required parameter:\n",
        "    output_dir=OUTPUT_PATH,\n",
        "    # Optional training parameters:\n",
        "    num_train_epochs=EPOCH,\n",
        "    per_device_train_batch_size=BS,\n",
        "    gradient_accumulation_steps=GRAD_ACC_STEP,\n",
        "    per_device_eval_batch_size=BS,\n",
        "    eval_accumulation_steps=GRAD_ACC_STEP,\n",
        "    learning_rate=LR,\n",
        "    weight_decay=0.01,\n",
        "    warmup_ratio=0.1,\n",
        "    fp16=True,  # Set to False if you get an error that your GPU can't run on FP16\n",
        "    bf16=False,  # Set to True if you have a GPU that supports BF16\n",
        "    batch_sampler=BatchSamplers.NO_DUPLICATES,  # MultipleNegativesRankingLoss benefits from no duplicate samples in a batch\n",
        "    # Optional tracking/debugging parameters:\n",
        "    lr_scheduler_type=\"cosine_with_restarts\",\n",
        "    save_strategy=\"steps\",\n",
        "    save_steps=0.1,\n",
        "    save_total_limit=2,\n",
        "    logging_steps=100,\n",
        "    report_to=REPORT_TO,  # Will be used in W&B if `wandb` is installed\n",
        "    run_name=EXP_NAME,\n",
        "    do_eval=False\n",
        ")\n",
        "\n",
        "trainer = SentenceTransformerTrainer(\n",
        "    model=model,\n",
        "    args=args,\n",
        "    train_dataset=train.select_columns(\n",
        "        [\"AllText\", \"MisconceptionName\", \"PredictMisconceptionName\"]\n",
        "    ),\n",
        "    loss=loss\n",
        ")\n",
        "\n",
        "trainer.train()\n",
        "model.save_pretrained(MODEL_OUTPUT_PATH)"
      ],
      "metadata": {
        "execution": {
          "iopub.status.busy": "2024-09-21T09:05:00.839158Z",
          "iopub.execute_input": "2024-09-21T09:05:00.839575Z",
          "iopub.status.idle": "2024-09-21T09:05:55.299201Z",
          "shell.execute_reply.started": "2024-09-21T09:05:00.839535Z",
          "shell.execute_reply": "2024-09-21T09:05:55.296993Z"
        },
        "trusted": true,
        "id": "XA_IESWWkGPz"
      },
      "outputs": [],
      "execution_count": null
    },
    {
      "cell_type": "code",
      "source": [],
      "metadata": {
        "id": "PcRl_0S_kGP0"
      },
      "outputs": [],
      "execution_count": null
    }
  ]
}